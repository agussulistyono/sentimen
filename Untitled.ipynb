{
 "cells": [
  {
   "cell_type": "code",
   "execution_count": 3,
   "id": "f4bdd0e2",
   "metadata": {},
   "outputs": [],
   "source": [
    "import tweepy\n",
    "import numpy as np \n",
    "import csv\n",
    "import string\n",
    "import pandas as pd"
   ]
  },
  {
   "cell_type": "code",
   "execution_count": 4,
   "id": "d3cd56c8",
   "metadata": {},
   "outputs": [],
   "source": [
    "api_key = 'TXOsWcVDYzx8qCe7JnHRUI43r'\n",
    "api_key_secret = 'sCueCdbSI8H4wEIXNDaIfNWe4Ev0wTbzr0xWZhYHnA0ksejOXd'\n",
    "access_token = '1461763452-st2EANOhMAWhV4Ix5H5dJoLLBvDouO505NQ1VaX'\n",
    "access_token_secret = '4SFGs4DEuyggQyP6v4MEV2IMVLclC06DQLvP7YP2xYjID'"
   ]
  },
  {
   "cell_type": "code",
   "execution_count": 6,
   "id": "78d1bd51",
   "metadata": {},
   "outputs": [],
   "source": [
    "auth = tweepy.OAuthHandler(api_key, api_key_secret)\n",
    "auth.set_access_token(access_token, access_token_secret)\n",
    "api = tweepy.API(auth)"
   ]
  },
  {
   "cell_type": "code",
   "execution_count": 7,
   "id": "09d37da9",
   "metadata": {},
   "outputs": [],
   "source": [
    "key_word = 'vaksincovid'\n",
    "limit = 20000"
   ]
  },
  {
   "cell_type": "code",
   "execution_count": 9,
   "id": "9ad45598",
   "metadata": {},
   "outputs": [],
   "source": [
    "def tweet_search(key_word):\n",
    "    i = 0\n",
    "    tweets_df = pd.DataFrame(columns = ['Datetime', 'Id', 'Tweet'])\n",
    "    for tweet in tweepy.Cursor(api.search, q = key_word, count = 100, lang = 'id',since='2020-03-01', until='2021-06-19', tweet_mode = 'extended').items():\n",
    "        print('Tweets download', i, '/', limit, end = '\\r' )\n",
    "        if tweet.user.followers_count > 1:\n",
    "            tweets_df = tweets_df.append({'Datetime':tweet.created_at,\n",
    "                                          'Id': tweet.id,\n",
    "                                          'Tweet': tweet.full_text,\n",
    "                                          }, ignore_index = True)\n",
    "            i += 1\n",
    "        if i >= limit:\n",
    "            break\n",
    "        else:\n",
    "            pass\n",
    "#Drop Duplicate\n",
    "    #tweets_df.drop_duplicates(subset = ['Tweet'], inplace = True)\n",
    "    #tweets_df['Datetime'] = pd.to_datetime(tweets_df['Datetime'], format = '%Y.%m.%d %H:%M:%S')\n",
    "    #tweets_df.set_index('Datetime', inplace = True)\n",
    "    #tweets_df['Text'] = tweets_df['Tweet'].apply(TextClean)\n",
    "    #Kode download file CSV\n",
    "    tweets_df.to_csv('vaksincovid-19062020.csv', encoding = 'utf-8')\n",
    "    return tweets_df"
   ]
  },
  {
   "cell_type": "code",
   "execution_count": 10,
   "id": "abf8adb7",
   "metadata": {},
   "outputs": [
    {
     "name": "stdout",
     "output_type": "stream",
     "text": [
      "Tweets download 4308 / 200006 / 20000 184 / 2000020000 433 / 20000 480 / 20000 527 / 20000 572 / 20000 626 / 20000 714 / 20000 757 / 20000 807 / 20000 932 / 20000 998 / 20000 / 20000 1183 / 20000 2054 / 20000 20000 3148 / 20000\r"
     ]
    }
   ],
   "source": [
    "tweets_df = tweet_search(key_word)"
   ]
  },
  {
   "cell_type": "code",
   "execution_count": 11,
   "id": "09c33ecf",
   "metadata": {},
   "outputs": [
    {
     "data": {
      "text/html": [
       "<div>\n",
       "<style scoped>\n",
       "    .dataframe tbody tr th:only-of-type {\n",
       "        vertical-align: middle;\n",
       "    }\n",
       "\n",
       "    .dataframe tbody tr th {\n",
       "        vertical-align: top;\n",
       "    }\n",
       "\n",
       "    .dataframe thead th {\n",
       "        text-align: right;\n",
       "    }\n",
       "</style>\n",
       "<table border=\"1\" class=\"dataframe\">\n",
       "  <thead>\n",
       "    <tr style=\"text-align: right;\">\n",
       "      <th></th>\n",
       "      <th>Datetime</th>\n",
       "      <th>Id</th>\n",
       "      <th>Tweet</th>\n",
       "    </tr>\n",
       "  </thead>\n",
       "  <tbody>\n",
       "    <tr>\n",
       "      <th>0</th>\n",
       "      <td>2021-06-18 23:53:33</td>\n",
       "      <td>1406037398065086466</td>\n",
       "      <td>RT @DrAdhamBaba: Pemberian vaksin kelmarin (17...</td>\n",
       "    </tr>\n",
       "    <tr>\n",
       "      <th>1</th>\n",
       "      <td>2021-06-18 23:51:17</td>\n",
       "      <td>1406036829598490629</td>\n",
       "      <td>RT @DrAdhamBaba: Pemberian vaksin kelmarin (17...</td>\n",
       "    </tr>\n",
       "    <tr>\n",
       "      <th>2</th>\n",
       "      <td>2021-06-18 23:48:51</td>\n",
       "      <td>1406036218127605760</td>\n",
       "      <td>RT @DrAdhamBaba: Pemberian vaksin kelmarin (17...</td>\n",
       "    </tr>\n",
       "    <tr>\n",
       "      <th>3</th>\n",
       "      <td>2021-06-18 23:44:14</td>\n",
       "      <td>1406035052681564161</td>\n",
       "      <td>RT @JKJAVMY: Jumlah pemberian kumulatif vaksin...</td>\n",
       "    </tr>\n",
       "    <tr>\n",
       "      <th>4</th>\n",
       "      <td>2021-06-18 23:43:08</td>\n",
       "      <td>1406034777950486529</td>\n",
       "      <td>RT @JKJAVMY: Pecahan jumlah pendaftaran terkin...</td>\n",
       "    </tr>\n",
       "    <tr>\n",
       "      <th>...</th>\n",
       "      <td>...</td>\n",
       "      <td>...</td>\n",
       "      <td>...</td>\n",
       "    </tr>\n",
       "    <tr>\n",
       "      <th>4304</th>\n",
       "      <td>2021-06-11 14:33:10</td>\n",
       "      <td>1403359659868622848</td>\n",
       "      <td>RT @JKJAVMY: Jumlah pemberian kumulatif vaksin...</td>\n",
       "    </tr>\n",
       "    <tr>\n",
       "      <th>4305</th>\n",
       "      <td>2021-06-11 14:32:47</td>\n",
       "      <td>1403359561638027264</td>\n",
       "      <td>RT @JKJAVMY: Adakah bekas pesakit COVID-19 bol...</td>\n",
       "    </tr>\n",
       "    <tr>\n",
       "      <th>4306</th>\n",
       "      <td>2021-06-11 14:30:29</td>\n",
       "      <td>1403358984036175872</td>\n",
       "      <td>RT @JKJAVMY: Adakah bekas pesakit COVID-19 bol...</td>\n",
       "    </tr>\n",
       "    <tr>\n",
       "      <th>4307</th>\n",
       "      <td>2021-06-11 12:44:12</td>\n",
       "      <td>1403332235894267904</td>\n",
       "      <td>RT @JKJAVMY: Pecahan jumlah pendaftaran terkin...</td>\n",
       "    </tr>\n",
       "    <tr>\n",
       "      <th>4308</th>\n",
       "      <td>2021-06-11 12:35:47</td>\n",
       "      <td>1403330119616262144</td>\n",
       "      <td>RT @JapenSong: Sila bawa 4 item penting ini se...</td>\n",
       "    </tr>\n",
       "  </tbody>\n",
       "</table>\n",
       "<p>4309 rows × 3 columns</p>\n",
       "</div>"
      ],
      "text/plain": [
       "                Datetime                   Id  \\\n",
       "0    2021-06-18 23:53:33  1406037398065086466   \n",
       "1    2021-06-18 23:51:17  1406036829598490629   \n",
       "2    2021-06-18 23:48:51  1406036218127605760   \n",
       "3    2021-06-18 23:44:14  1406035052681564161   \n",
       "4    2021-06-18 23:43:08  1406034777950486529   \n",
       "...                  ...                  ...   \n",
       "4304 2021-06-11 14:33:10  1403359659868622848   \n",
       "4305 2021-06-11 14:32:47  1403359561638027264   \n",
       "4306 2021-06-11 14:30:29  1403358984036175872   \n",
       "4307 2021-06-11 12:44:12  1403332235894267904   \n",
       "4308 2021-06-11 12:35:47  1403330119616262144   \n",
       "\n",
       "                                                  Tweet  \n",
       "0     RT @DrAdhamBaba: Pemberian vaksin kelmarin (17...  \n",
       "1     RT @DrAdhamBaba: Pemberian vaksin kelmarin (17...  \n",
       "2     RT @DrAdhamBaba: Pemberian vaksin kelmarin (17...  \n",
       "3     RT @JKJAVMY: Jumlah pemberian kumulatif vaksin...  \n",
       "4     RT @JKJAVMY: Pecahan jumlah pendaftaran terkin...  \n",
       "...                                                 ...  \n",
       "4304  RT @JKJAVMY: Jumlah pemberian kumulatif vaksin...  \n",
       "4305  RT @JKJAVMY: Adakah bekas pesakit COVID-19 bol...  \n",
       "4306  RT @JKJAVMY: Adakah bekas pesakit COVID-19 bol...  \n",
       "4307  RT @JKJAVMY: Pecahan jumlah pendaftaran terkin...  \n",
       "4308  RT @JapenSong: Sila bawa 4 item penting ini se...  \n",
       "\n",
       "[4309 rows x 3 columns]"
      ]
     },
     "execution_count": 11,
     "metadata": {},
     "output_type": "execute_result"
    }
   ],
   "source": [
    "tweets_df"
   ]
  }
 ],
 "metadata": {
  "kernelspec": {
   "display_name": "Python 3",
   "language": "python",
   "name": "python3"
  },
  "language_info": {
   "codemirror_mode": {
    "name": "ipython",
    "version": 3
   },
   "file_extension": ".py",
   "mimetype": "text/x-python",
   "name": "python",
   "nbconvert_exporter": "python",
   "pygments_lexer": "ipython3",
   "version": "3.8.8"
  }
 },
 "nbformat": 4,
 "nbformat_minor": 5
}
